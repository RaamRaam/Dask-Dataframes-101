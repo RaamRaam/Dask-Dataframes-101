{
 "cells": [
  {
   "cell_type": "markdown",
   "id": "f22fe201",
   "metadata": {},
   "source": [
    "# Dask 101 - Dataframes Webinar"
   ]
  },
  {
   "cell_type": "markdown",
   "id": "db8b6e9a",
   "metadata": {},
   "source": [
    "## 5 Reasons you should use Dask over Pandas"
   ]
  },
  {
   "cell_type": "markdown",
   "id": "cb6870fa",
   "metadata": {},
   "source": [
    "### Imort NYC flights dataset"
   ]
  },
  {
   "cell_type": "code",
   "execution_count": null,
   "id": "5011ea1c",
   "metadata": {
    "ExecuteTime": {
     "end_time": "2022-06-25T04:22:03.776395Z",
     "start_time": "2022-06-25T04:20:56.859995Z"
    }
   },
   "outputs": [],
   "source": [
    "# import urllib\n",
    "# import tarfile\n",
    "\n",
    "# print(\"- Downloading NYC Flights dataset... \", end='', flush=True)\n",
    "# url = \"https://storage.googleapis.com/dask-tutorial-data/nycflights.tar.gz\"\n",
    "# filename, headers = urllib.request.urlretrieve(url, 'nycflights.tar.gz')\n",
    "# print(\"Done!\", flush=True)\n",
    "\n",
    "\n",
    "\n",
    "# # extract the .csv files from the tar file\n",
    "# with tarfile.open(filename, mode='r:gz') as flights:\n",
    "#             flights.extractall('data/')"
   ]
  },
  {
   "cell_type": "code",
   "execution_count": null,
   "id": "cf3a8555",
   "metadata": {
    "ExecuteTime": {
     "end_time": "2022-06-26T03:13:56.487106Z",
     "start_time": "2022-06-26T03:13:55.612801Z"
    }
   },
   "outputs": [],
   "source": [
    "import dask.dataframe as dd\n",
    "import pandas as pd\n",
    "pd.set_option('display.max_columns', None)\n",
    "import os\n",
    "import dask\n",
    "from dask import delayed\n",
    "import numpy as np"
   ]
  },
  {
   "cell_type": "markdown",
   "id": "b4a22c9f",
   "metadata": {},
   "source": [
    "### Read data into Pandas Dataframe"
   ]
  },
  {
   "cell_type": "code",
   "execution_count": null,
   "id": "37b8e54c",
   "metadata": {
    "ExecuteTime": {
     "end_time": "2022-06-26T03:14:01.085933Z",
     "start_time": "2022-06-26T03:13:58.069716Z"
    }
   },
   "outputs": [],
   "source": [
    "%time \n",
    "pdf=pd.concat([pd.read_csv(os.path.join('data', 'nycflights', i)) for i in os.listdir(os.path.join('data', 'nycflights'))])\n"
   ]
  },
  {
   "cell_type": "code",
   "execution_count": null,
   "id": "d961431d",
   "metadata": {
    "ExecuteTime": {
     "end_time": "2022-06-26T03:14:01.103743Z",
     "start_time": "2022-06-26T03:14:01.087348Z"
    }
   },
   "outputs": [],
   "source": [
    "pdf.head()"
   ]
  },
  {
   "cell_type": "markdown",
   "id": "fca91b2a",
   "metadata": {},
   "source": [
    "### Read data into Dask Dataframe"
   ]
  },
  {
   "cell_type": "code",
   "execution_count": null,
   "id": "997f56c5",
   "metadata": {
    "ExecuteTime": {
     "end_time": "2022-06-26T03:14:03.461190Z",
     "start_time": "2022-06-26T03:14:03.441430Z"
    }
   },
   "outputs": [],
   "source": [
    "%time \n",
    "ddf = dd.read_csv(os.path.join('data', 'nycflights', '*.csv'))"
   ]
  },
  {
   "cell_type": "markdown",
   "id": "82fa71b0",
   "metadata": {},
   "source": [
    "#### Lazy Evaluation"
   ]
  },
  {
   "cell_type": "code",
   "execution_count": null,
   "id": "f1f80c7d",
   "metadata": {
    "ExecuteTime": {
     "end_time": "2022-06-26T03:14:07.543540Z",
     "start_time": "2022-06-26T03:14:05.434545Z"
    }
   },
   "outputs": [],
   "source": [
    "ddf.tail()"
   ]
  },
  {
   "cell_type": "code",
   "execution_count": null,
   "id": "75fbb0b1",
   "metadata": {
    "ExecuteTime": {
     "end_time": "2022-06-26T03:14:11.564676Z",
     "start_time": "2022-06-26T03:14:11.546246Z"
    }
   },
   "outputs": [],
   "source": [
    "%time \n",
    "ddf = dd.read_csv(os.path.join('data', 'nycflights', '*.csv'),dtype={'TailNum': str,'CRSElapsedTime': float,'Cancelled': bool})\n"
   ]
  },
  {
   "cell_type": "markdown",
   "id": "be29c1e1",
   "metadata": {},
   "source": [
    "### Partitioned Data"
   ]
  },
  {
   "cell_type": "code",
   "execution_count": null,
   "id": "9d821ef6",
   "metadata": {
    "ExecuteTime": {
     "end_time": "2022-06-26T03:14:14.947275Z",
     "start_time": "2022-06-26T03:14:14.943300Z"
    }
   },
   "outputs": [],
   "source": [
    "ddf.npartitions"
   ]
  },
  {
   "cell_type": "markdown",
   "id": "eb17317a",
   "metadata": {},
   "source": [
    "### Pandas vs Dask - Basic Dataframe Operations Comparison"
   ]
  },
  {
   "cell_type": "code",
   "execution_count": null,
   "id": "6fa1d6c8",
   "metadata": {
    "ExecuteTime": {
     "end_time": "2022-06-26T03:14:19.087937Z",
     "start_time": "2022-06-26T03:14:18.660370Z"
    }
   },
   "outputs": [],
   "source": [
    "%time \n",
    "pdf['Day']=pdf['DayofMonth']\n",
    "pdf['date']=pd.to_datetime(pdf[['Year', 'Month', 'Day']])\n",
    "pdf['delay']=pdf['ActualElapsedTime']-pdf['CRSElapsedTime']\n",
    "pdf['ArrDelay']=pdf['ArrDelay']**2\n",
    "pdf['DepDelay']=pdf['DepDelay']**2"
   ]
  },
  {
   "cell_type": "code",
   "execution_count": null,
   "id": "49dd264f",
   "metadata": {
    "ExecuteTime": {
     "end_time": "2022-06-26T03:14:19.784502Z",
     "start_time": "2022-06-26T03:14:19.737656Z"
    }
   },
   "outputs": [],
   "source": [
    "%time \n",
    "ddf['Day']=ddf['DayofMonth']\n",
    "ddf['date']=dd.to_datetime(ddf[['Year', 'Month', 'Day']])\n",
    "ddf['delay']=ddf['ActualElapsedTime']-ddf['CRSElapsedTime']\n",
    "ddf['ArrDelay']=ddf['ArrDelay']**2\n",
    "ddf['DepDelay']=ddf['DepDelay']**2"
   ]
  },
  {
   "cell_type": "code",
   "execution_count": null,
   "id": "387a5b37",
   "metadata": {
    "ExecuteTime": {
     "end_time": "2022-06-26T03:14:27.154938Z",
     "start_time": "2022-06-26T03:14:26.113722Z"
    }
   },
   "outputs": [],
   "source": [
    "ddf.visualize()"
   ]
  },
  {
   "cell_type": "code",
   "execution_count": null,
   "id": "029db2d3",
   "metadata": {},
   "outputs": [],
   "source": []
  },
  {
   "cell_type": "markdown",
   "id": "1f39e711",
   "metadata": {},
   "source": [
    "### Dask Dataframe - Aggregate operations"
   ]
  },
  {
   "cell_type": "code",
   "execution_count": null,
   "id": "5fee17f0",
   "metadata": {
    "ExecuteTime": {
     "end_time": "2022-06-26T03:14:54.029450Z",
     "start_time": "2022-06-26T03:14:54.014586Z"
    }
   },
   "outputs": [],
   "source": [
    "%time pdf.DepDelay.max()"
   ]
  },
  {
   "cell_type": "code",
   "execution_count": null,
   "id": "45a0eb4a",
   "metadata": {
    "ExecuteTime": {
     "end_time": "2022-06-26T03:14:57.588134Z",
     "start_time": "2022-06-26T03:14:55.472057Z"
    }
   },
   "outputs": [],
   "source": [
    "%time ddf.DepDelay.max().compute()"
   ]
  },
  {
   "cell_type": "code",
   "execution_count": null,
   "id": "7de9299f",
   "metadata": {
    "ExecuteTime": {
     "end_time": "2022-06-26T03:15:12.241839Z",
     "start_time": "2022-06-26T03:15:11.048025Z"
    }
   },
   "outputs": [],
   "source": [
    "ddf.DepDelay.max().visualize()"
   ]
  },
  {
   "cell_type": "code",
   "execution_count": null,
   "id": "3c5c5325",
   "metadata": {},
   "outputs": [],
   "source": []
  },
  {
   "cell_type": "markdown",
   "id": "4b3a803e",
   "metadata": {
    "ExecuteTime": {
     "end_time": "2022-06-25T08:24:15.092985Z",
     "start_time": "2022-06-25T08:24:15.090410Z"
    }
   },
   "source": [
    "### Dask Delayed"
   ]
  },
  {
   "cell_type": "code",
   "execution_count": null,
   "id": "b218a449",
   "metadata": {
    "ExecuteTime": {
     "end_time": "2022-06-26T03:23:54.907032Z",
     "start_time": "2022-06-26T03:23:54.899160Z"
    }
   },
   "outputs": [],
   "source": [
    "def inc(x):\n",
    "    return x + 1\n",
    "\n",
    "def double(x):\n",
    "    return x * 2\n",
    "\n",
    "def add(x, y):\n",
    "    return x + y\n",
    "\n",
    "x = inc(1)\n",
    "y = inc(2)\n",
    "z = add(x, y)\n",
    "\n",
    "z"
   ]
  },
  {
   "cell_type": "code",
   "execution_count": null,
   "id": "3f13abe3",
   "metadata": {
    "ExecuteTime": {
     "end_time": "2022-06-26T03:24:49.509251Z",
     "start_time": "2022-06-26T03:24:49.335057Z"
    }
   },
   "outputs": [],
   "source": [
    "@dask.delayed\n",
    "def inc(x):\n",
    "    return x + 1\n",
    "\n",
    "@dask.delayed\n",
    "def double(x):\n",
    "    return x * 2\n",
    "\n",
    "@dask.delayed\n",
    "def add(x, y):\n",
    "    return x + y\n",
    "\n",
    "x = inc(1)\n",
    "y = inc(2)\n",
    "z = add(x, y)\n",
    "\n",
    "print(z)\n",
    "\n",
    "print(z.compute())\n",
    "\n",
    "z.visualize()\n"
   ]
  },
  {
   "cell_type": "markdown",
   "id": "56d59841",
   "metadata": {},
   "source": [
    "Reference\n",
    "https://docs.dask.org/en/stable/delayed.html"
   ]
  },
  {
   "cell_type": "markdown",
   "id": "244cab2d",
   "metadata": {},
   "source": [
    "### Dask Delayed with Dataframes"
   ]
  },
  {
   "cell_type": "code",
   "execution_count": null,
   "id": "8517fdfb",
   "metadata": {
    "ExecuteTime": {
     "end_time": "2022-06-26T03:16:12.818553Z",
     "start_time": "2022-06-26T03:16:12.789969Z"
    }
   },
   "outputs": [],
   "source": [
    "%time \n",
    "ddf = dd.read_csv(os.path.join('data', 'nycflights', '*.csv'),dtype={'TailNum': str,'CRSElapsedTime': float,'Cancelled': bool})\n",
    "ddf['Day']=ddf['DayofMonth']"
   ]
  },
  {
   "cell_type": "code",
   "execution_count": null,
   "id": "cef1ccb6",
   "metadata": {
    "ExecuteTime": {
     "end_time": "2022-06-26T03:16:15.309709Z",
     "start_time": "2022-06-26T03:16:15.306331Z"
    }
   },
   "outputs": [],
   "source": [
    "@dask.delayed\n",
    "def get_date(v):\n",
    "    return dd.to_datetime(v)\n",
    "\n",
    "@dask.delayed\n",
    "def get_square(v):\n",
    "    return v**2"
   ]
  },
  {
   "cell_type": "code",
   "execution_count": null,
   "id": "dc6a4903",
   "metadata": {
    "ExecuteTime": {
     "end_time": "2022-06-26T03:21:39.071075Z",
     "start_time": "2022-06-26T03:21:39.058651Z"
    }
   },
   "outputs": [],
   "source": [
    "%time\n",
    "delayed_object=dask.delayed(ddf.repartition(npartitions=5))\n",
    "temp_delayed_object={}\n",
    "temp_delayed_object['Date']=get_date(delayed_object[['Year', 'Month', 'Day']])\n",
    "temp_delayed_object['delay']=dask.delayed(delayed_object['ActualElapsedTime']-delayed_object['CRSElapsedTime'])\n",
    "temp_delayed_object['ArrDelaySquare']=dask.delayed(delayed_object['ArrDelay'].apply(get_square))\n",
    "temp_delayed_object['DepDelaySquare']=dask.delayed(delayed_object['DepDelay'].apply(get_square))\n",
    "delayed_object=delayed_object.assign(**temp_delayed_object)"
   ]
  },
  {
   "cell_type": "code",
   "execution_count": null,
   "id": "56e818c6",
   "metadata": {
    "ExecuteTime": {
     "end_time": "2022-06-26T03:21:44.356161Z",
     "start_time": "2022-06-26T03:21:40.763807Z"
    }
   },
   "outputs": [],
   "source": [
    "%time\n",
    "a=delayed_object.compute()"
   ]
  },
  {
   "cell_type": "code",
   "execution_count": null,
   "id": "2fb12dff",
   "metadata": {
    "ExecuteTime": {
     "end_time": "2022-06-26T03:21:44.742426Z",
     "start_time": "2022-06-26T03:21:44.357512Z"
    }
   },
   "outputs": [],
   "source": [
    "dask.visualize(delayed_object)"
   ]
  },
  {
   "cell_type": "code",
   "execution_count": null,
   "id": "8df1f371",
   "metadata": {},
   "outputs": [],
   "source": []
  },
  {
   "cell_type": "code",
   "execution_count": null,
   "id": "104daaa4",
   "metadata": {},
   "outputs": [],
   "source": []
  },
  {
   "cell_type": "code",
   "execution_count": null,
   "id": "78eaeee2",
   "metadata": {},
   "outputs": [],
   "source": []
  },
  {
   "cell_type": "code",
   "execution_count": null,
   "id": "35d4a4b9",
   "metadata": {},
   "outputs": [],
   "source": []
  },
  {
   "cell_type": "markdown",
   "id": "8915236a",
   "metadata": {},
   "source": [
    "### Dask distributed processing"
   ]
  },
  {
   "cell_type": "code",
   "execution_count": null,
   "id": "e8950f19",
   "metadata": {
    "ExecuteTime": {
     "end_time": "2022-06-25T13:43:38.526337Z",
     "start_time": "2022-06-25T13:43:38.522192Z"
    }
   },
   "outputs": [],
   "source": [
    "import dask.dataframe as dd\n",
    "import pandas as pd\n",
    "pd.set_option('display.max_columns', None)\n",
    "import os\n",
    "import dask\n",
    "from dask import delayed\n",
    "import numpy as np\n",
    "import dask.array as da"
   ]
  },
  {
   "cell_type": "code",
   "execution_count": null,
   "id": "a89e1b6a",
   "metadata": {
    "ExecuteTime": {
     "end_time": "2022-06-25T13:43:44.398611Z",
     "start_time": "2022-06-25T13:43:42.875455Z"
    }
   },
   "outputs": [],
   "source": [
    "from dask.distributed import Client\n",
    "client = Client()\n",
    "client\n",
    "\n",
    "# from dask.distributed import Client, LocalCluster\n",
    "# cluster = LocalCluster()  # Launches a scheduler and workers locally\n",
    "# client = Client(cluster)  # Connect to distributed cluster and override default"
   ]
  },
  {
   "cell_type": "code",
   "execution_count": null,
   "id": "9b4f980e",
   "metadata": {
    "ExecuteTime": {
     "end_time": "2022-06-25T13:43:47.223796Z",
     "start_time": "2022-06-25T13:43:47.186812Z"
    }
   },
   "outputs": [],
   "source": [
    "%time \n",
    "ddf = dd.read_csv(os.path.join('data', 'nycflights', '*.csv'),dtype={'TailNum': str,'CRSElapsedTime': float,'Cancelled': bool})\n",
    "ddf['Day']=ddf['DayofMonth']"
   ]
  },
  {
   "cell_type": "code",
   "execution_count": null,
   "id": "030851f3",
   "metadata": {
    "ExecuteTime": {
     "end_time": "2022-06-25T11:05:29.870473Z",
     "start_time": "2022-06-25T11:05:29.860667Z"
    }
   },
   "outputs": [],
   "source": [
    "def get_date(v):\n",
    "    return dd.to_datetime(v)\n",
    "\n",
    "def get_square(v):\n",
    "    return dask.array.power(v,2)\n",
    "\n",
    "def get_diff(v):\n",
    "    return v.iloc[:,0]-v.iloc[:,1]\n",
    "\n",
    "def add_columns(v):\n",
    "    for idx,i in enumerate(v[1:]):\n",
    "        v[0]['new_'+str(idx)]=i[0]\n",
    "    return v[0]\n",
    "    "
   ]
  },
  {
   "cell_type": "code",
   "execution_count": null,
   "id": "db306deb",
   "metadata": {
    "ExecuteTime": {
     "end_time": "2022-06-25T11:04:57.261475Z",
     "start_time": "2022-06-25T11:04:56.029055Z"
    }
   },
   "outputs": [],
   "source": [
    "client.restart()"
   ]
  },
  {
   "cell_type": "code",
   "execution_count": null,
   "id": "b89e4cfe",
   "metadata": {
    "ExecuteTime": {
     "end_time": "2022-06-25T11:05:33.073575Z",
     "start_time": "2022-06-25T11:05:32.894086Z"
    }
   },
   "outputs": [],
   "source": [
    "%time\n",
    "\n",
    "\n",
    "A=client.map(get_date,[ddf[['Year', 'Month', 'Day']]])\n",
    "B=client.map(get_diff,[ddf[['ActualElapsedTime','CRSElapsedTime']]])\n",
    "C=client.map(get_square,[ddf['ArrDelay']])\n",
    "D=client.map(get_square,[ddf['DepDelay']])\n",
    "Merge=client.submit(add_columns,[ddf,A,B,C,D])\n",
    "Merge\n"
   ]
  },
  {
   "cell_type": "code",
   "execution_count": null,
   "id": "077098de",
   "metadata": {
    "ExecuteTime": {
     "end_time": "2022-06-25T11:05:37.526187Z",
     "start_time": "2022-06-25T11:05:37.503928Z"
    }
   },
   "outputs": [],
   "source": [
    "Merge"
   ]
  },
  {
   "cell_type": "code",
   "execution_count": null,
   "id": "8f34db82",
   "metadata": {
    "ExecuteTime": {
     "end_time": "2022-06-25T11:05:40.201447Z",
     "start_time": "2022-06-25T11:05:39.746416Z"
    }
   },
   "outputs": [],
   "source": [
    "Merge.result().head()"
   ]
  },
  {
   "cell_type": "code",
   "execution_count": null,
   "id": "c6337217",
   "metadata": {
    "ExecuteTime": {
     "end_time": "2022-06-25T11:04:36.460831Z",
     "start_time": "2022-06-25T11:04:36.417835Z"
    }
   },
   "outputs": [],
   "source": [
    "ddf.head()"
   ]
  },
  {
   "cell_type": "code",
   "execution_count": null,
   "id": "3c5281a7",
   "metadata": {
    "ExecuteTime": {
     "end_time": "2022-06-25T10:22:30.996710Z",
     "start_time": "2022-06-25T10:22:30.824832Z"
    }
   },
   "outputs": [],
   "source": []
  },
  {
   "cell_type": "markdown",
   "id": "cab9789b",
   "metadata": {},
   "source": [
    "### Submit delayed object to client"
   ]
  },
  {
   "cell_type": "code",
   "execution_count": null,
   "id": "5c6696fe",
   "metadata": {
    "ExecuteTime": {
     "end_time": "2022-06-25T13:45:39.180161Z",
     "start_time": "2022-06-25T13:45:39.177222Z"
    }
   },
   "outputs": [],
   "source": [
    "def exec_delayed(v):\n",
    "    return v.compute()"
   ]
  },
  {
   "cell_type": "code",
   "execution_count": null,
   "id": "eb5d2384",
   "metadata": {
    "ExecuteTime": {
     "end_time": "2022-06-25T13:45:42.518878Z",
     "start_time": "2022-06-25T13:45:42.366634Z"
    }
   },
   "outputs": [],
   "source": [
    "r=client.submit(exec_delayed,delayed_object)"
   ]
  },
  {
   "cell_type": "code",
   "execution_count": null,
   "id": "a1bfc148",
   "metadata": {
    "ExecuteTime": {
     "end_time": "2022-06-25T15:00:36.111697Z",
     "start_time": "2022-06-25T15:00:36.107854Z"
    }
   },
   "outputs": [],
   "source": [
    "r._state"
   ]
  },
  {
   "cell_type": "code",
   "execution_count": null,
   "id": "7f8dc31d",
   "metadata": {
    "ExecuteTime": {
     "end_time": "2022-06-25T13:46:37.406920Z",
     "start_time": "2022-06-25T13:46:35.016409Z"
    }
   },
   "outputs": [],
   "source": [
    "r.result()"
   ]
  },
  {
   "cell_type": "code",
   "execution_count": null,
   "id": "f77ca86c",
   "metadata": {},
   "outputs": [],
   "source": []
  },
  {
   "cell_type": "code",
   "execution_count": null,
   "id": "e4b1e7f3",
   "metadata": {},
   "outputs": [],
   "source": []
  },
  {
   "cell_type": "code",
   "execution_count": null,
   "id": "61b953fa",
   "metadata": {},
   "outputs": [],
   "source": []
  },
  {
   "cell_type": "code",
   "execution_count": null,
   "id": "dcac028e",
   "metadata": {},
   "outputs": [],
   "source": []
  },
  {
   "cell_type": "markdown",
   "id": "fe36ffa2",
   "metadata": {},
   "source": [
    "### References"
   ]
  },
  {
   "cell_type": "markdown",
   "id": "632f6c7d",
   "metadata": {},
   "source": [
    "https://coderzcolumn.com/tutorials/python/dask-distributed-parallel-processing-in-python\n",
    "https://youtu.be/07EiCpdhtDE\n",
    "https://youtu.be/v7famjsXdUY"
   ]
  },
  {
   "cell_type": "code",
   "execution_count": null,
   "id": "4f4814f1",
   "metadata": {},
   "outputs": [],
   "source": []
  },
  {
   "cell_type": "code",
   "execution_count": null,
   "id": "c4642db0",
   "metadata": {},
   "outputs": [],
   "source": []
  },
  {
   "cell_type": "code",
   "execution_count": null,
   "id": "c5fc679e",
   "metadata": {},
   "outputs": [],
   "source": []
  },
  {
   "cell_type": "code",
   "execution_count": null,
   "id": "30c00cfc",
   "metadata": {
    "ExecuteTime": {
     "end_time": "2022-06-25T07:44:27.463677Z",
     "start_time": "2022-06-25T07:44:27.361816Z"
    }
   },
   "outputs": [],
   "source": [
    "# @delayed(nout=1)\n",
    "# def test(v):\n",
    "#     return sum(v)\n",
    "\n",
    "# test1=dask.delayed(test(dask.delayed([1,2,3])))"
   ]
  },
  {
   "cell_type": "code",
   "execution_count": null,
   "id": "6ecd1c92",
   "metadata": {
    "ExecuteTime": {
     "end_time": "2022-06-25T07:45:11.629206Z",
     "start_time": "2022-06-25T07:44:29.958685Z"
    }
   },
   "outputs": [],
   "source": [
    "# test1.compute()"
   ]
  },
  {
   "cell_type": "code",
   "execution_count": null,
   "id": "dcf082af",
   "metadata": {
    "ExecuteTime": {
     "end_time": "2022-06-25T08:09:51.727983Z",
     "start_time": "2022-06-25T08:09:51.720864Z"
    }
   },
   "outputs": [],
   "source": [
    "# # @dask.delayed(nout=1)\n",
    "# def f(v):\n",
    "#     return v[0]\n",
    "\n",
    "# x = dask.delayed(f(dask.delayed([2,1])))\n",
    "# x.compute()"
   ]
  },
  {
   "cell_type": "code",
   "execution_count": null,
   "id": "c40c1380",
   "metadata": {
    "ExecuteTime": {
     "end_time": "2022-06-25T07:55:37.851894Z",
     "start_time": "2022-06-25T07:55:37.847958Z"
    }
   },
   "outputs": [],
   "source": [
    "# @dask.delayed(nout=1)\n",
    "# def f(v):\n",
    "#     return sum(v)\n",
    "\n",
    "# x = dask.delayed(f(dask.delayed([1,2])))\n",
    "# # x.compute(),y.compute()"
   ]
  },
  {
   "cell_type": "code",
   "execution_count": null,
   "id": "ec9d3364",
   "metadata": {
    "ExecuteTime": {
     "end_time": "2022-06-25T07:56:59.331605Z",
     "start_time": "2022-06-25T07:56:59.325479Z"
    }
   },
   "outputs": [],
   "source": [
    "# x.compute()"
   ]
  },
  {
   "cell_type": "code",
   "execution_count": null,
   "id": "1e283c04",
   "metadata": {
    "ExecuteTime": {
     "end_time": "2022-06-25T07:51:59.261568Z",
     "start_time": "2022-06-25T07:51:14.088576Z"
    }
   },
   "outputs": [],
   "source": [
    "# @dask.delayed(nout=2)\n",
    "# def makes_two():\n",
    "#     return 1, 2\n",
    "\n",
    "# out1, out2 = makes_two()\n",
    "# out1.compute()"
   ]
  },
  {
   "cell_type": "code",
   "execution_count": null,
   "id": "d31a4a15",
   "metadata": {},
   "outputs": [],
   "source": []
  },
  {
   "cell_type": "code",
   "execution_count": null,
   "id": "88d142a1",
   "metadata": {},
   "outputs": [],
   "source": []
  },
  {
   "cell_type": "code",
   "execution_count": null,
   "id": "a0e1d1dd",
   "metadata": {},
   "outputs": [],
   "source": []
  }
 ],
 "metadata": {
  "kernelspec": {
   "display_name": "tf2",
   "language": "python",
   "name": "tf2"
  },
  "language_info": {
   "codemirror_mode": {
    "name": "ipython",
    "version": 3
   },
   "file_extension": ".py",
   "mimetype": "text/x-python",
   "name": "python",
   "nbconvert_exporter": "python",
   "pygments_lexer": "ipython3",
   "version": "3.9.7"
  }
 },
 "nbformat": 4,
 "nbformat_minor": 5
}
